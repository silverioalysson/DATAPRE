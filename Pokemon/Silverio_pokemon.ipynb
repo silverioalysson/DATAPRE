{
 "cells": [
  {
   "cell_type": "markdown",
   "id": "ce4387b9",
   "metadata": {},
   "source": [
    "Silverio, Gwyneth S14"
   ]
  },
  {
   "cell_type": "code",
   "execution_count": 1,
   "id": "5273ddd2",
   "metadata": {},
   "outputs": [],
   "source": [
    "import requests\n",
    "import pandas as pd\n",
    "URL=\"https://bulbapedia.bulbagarden.net/wiki/List_of_Pok%C3%A9mon_by_National_Pok%C3%A9dex_number\""
   ]
  },
  {
   "cell_type": "code",
   "execution_count": 2,
   "id": "1fff9a26",
   "metadata": {},
   "outputs": [],
   "source": [
    "page = requests.get(URL)"
   ]
  },
  {
   "cell_type": "code",
   "execution_count": 3,
   "id": "b1812e10",
   "metadata": {},
   "outputs": [],
   "source": [
    "from bs4 import BeautifulSoup\n",
    "\n",
    "soup = BeautifulSoup(page.content, 'html.parser')"
   ]
  },
  {
   "cell_type": "code",
   "execution_count": 4,
   "id": "4c7f3925",
   "metadata": {},
   "outputs": [],
   "source": [
    "# Get main content <div>\n",
    "poke_content = soup.find(id='mw-content-text')\n",
    "\n",
    "# Get all <table> elements\n",
    "poke_tables = poke_content.find_all('table')"
   ]
  },
  {
   "cell_type": "code",
   "execution_count": 5,
   "id": "e9f9a71c",
   "metadata": {},
   "outputs": [],
   "source": [
    "extracted_poke_info = []\n",
    "info_start = 1\n",
    "\n",
    "for i in range (1,10):\n",
    "    gen1_list = poke_tables[i]\n",
    "    info_row=gen1_list.contents[info_start]\n",
    "    \n",
    "    for pokemon_info_values, even_index_chec in zip(info_row.contents, range(0,len(info_row.contents))):\n",
    "        \n",
    "        if ((even_index_chec % 2) == 0) & (even_index_chec != 0) :\n",
    "            pokemon_raw_info = pokemon_info_values.text.strip().split('\\n')\n",
    "            \n",
    "            if len(pokemon_raw_info) == 7:\n",
    "                kdex = pokemon_raw_info[0]\n",
    "                ndex = pokemon_raw_info[1]\n",
    "                poke_name = pokemon_raw_info[4]\n",
    "                type1 = pokemon_raw_info[6]\n",
    "                type2 = ''\n",
    "                categ = 'Other Form Single Type'\n",
    "\n",
    "            elif len(pokemon_raw_info) == 8:\n",
    "                kdex = pokemon_raw_info[0]\n",
    "                ndex = pokemon_raw_info[1]\n",
    "                poke_name = pokemon_raw_info[4]\n",
    "                type1 = pokemon_raw_info[6]\n",
    "                type2 = pokemon_raw_info[7]\n",
    "                categ = 'Other Form Multi Type'\n",
    "\n",
    "            elif len(pokemon_raw_info) == 9:\n",
    "                kdex = pokemon_raw_info[0]\n",
    "                ndex = pokemon_raw_info[2]\n",
    "                poke_name = pokemon_raw_info[6]\n",
    "                type1 = pokemon_raw_info[8]\n",
    "                type2 = ''\n",
    "                categ = 'Orig Form Single Type'\n",
    "\n",
    "            elif len(pokemon_raw_info) == 10:\n",
    "                kdex = pokemon_raw_info[0]\n",
    "                ndex = pokemon_raw_info[2]\n",
    "                poke_name = pokemon_raw_info[6]\n",
    "                type1 = pokemon_raw_info[8]\n",
    "                type2 = pokemon_raw_info[9]\n",
    "                categ = 'Orig Form Multi Type'\n",
    "\n",
    "            else:\n",
    "                print('Check out elements containing ' + str(len(pokemon_raw_info)) + ' elements')\n",
    "\n",
    "            extracted_poke_info.append((kdex, ndex, poke_name, type1, type2, categ))\n",
    "\n",
    "        else:\n",
    "            pass\n",
    "    #         print(pokemon_info_values)"
   ]
  },
  {
   "cell_type": "code",
   "execution_count": 6,
   "id": "8ecd29d7",
   "metadata": {},
   "outputs": [],
   "source": [
    "df_pokemon_list = pd.DataFrame(extracted_poke_info)\n",
    "df_pokemon_list.to_json('Silverio_pokemon.json',orient='index')"
   ]
  },
  {
   "cell_type": "code",
   "execution_count": null,
   "id": "c8d51b80",
   "metadata": {},
   "outputs": [],
   "source": []
  }
 ],
 "metadata": {
  "kernelspec": {
   "display_name": "Python 3 (ipykernel)",
   "language": "python",
   "name": "python3"
  },
  "language_info": {
   "codemirror_mode": {
    "name": "ipython",
    "version": 3
   },
   "file_extension": ".py",
   "mimetype": "text/x-python",
   "name": "python",
   "nbconvert_exporter": "python",
   "pygments_lexer": "ipython3",
   "version": "3.9.7"
  }
 },
 "nbformat": 4,
 "nbformat_minor": 5
}
